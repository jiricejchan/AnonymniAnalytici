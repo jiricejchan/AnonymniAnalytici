{
  "nbformat": 4,
  "nbformat_minor": 0,
  "metadata": {
    "colab": {
      "name": "cluster_analysis.ipynb",
      "provenance": [],
      "include_colab_link": true
    },
    "kernelspec": {
      "name": "python3",
      "display_name": "Python 3"
    }
  },
  "cells": [
    {
      "cell_type": "markdown",
      "metadata": {
        "id": "view-in-github",
        "colab_type": "text"
      },
      "source": [
        "<a href=\"https://colab.research.google.com/github/jiricejchan/AnonymniAnalytici/blob/master/cluster_analysis.ipynb\" target=\"_parent\"><img src=\"https://colab.research.google.com/assets/colab-badge.svg\" alt=\"Open In Colab\"/></a>"
      ]
    },
    {
      "cell_type": "markdown",
      "metadata": {
        "id": "ajHlHFqEecO7"
      },
      "source": [
        "# Get This Notebook\n",
        "\n",
        "Clik on `file` (upper left corner) and choose from the dropdown the option, which you prefer:\n",
        "- `Save a copy in Drive` to add the notebook to your Google Drive (where you can access it via Google Colab)\n",
        "- `Download .ipynb` to download the Notebook as a Jupyter Notebook, which you can run from your local machine"
      ]
    },
    {
      "cell_type": "markdown",
      "metadata": {
        "id": "V0cl9EKl3f-3"
      },
      "source": [
        "# Before we start: Setup\n",
        "\n",
        "Before we start coding out the solution, make sure you have all the prerequisite Python packages. Run the following code to install the versions of the packages you will be needing for this Notebook."
      ]
    },
    {
      "cell_type": "code",
      "metadata": {
        "id": "d3cAbyOQ0y4i",
        "colab": {
          "base_uri": "https://localhost:8080/",
          "height": 258
        },
        "outputId": "fd511af1-c392-4d4c-a6bb-747d04c4a1f7"
      },
      "source": [
        "# Install necessary pip packages in the current Jupyter kernel\n",
        "import sys\n",
        "!{sys.executable} -m pip install pandas==1.0.5 matplotlib==3.2.2 seaborn==0.10.1 numpy==1.18.5 scikit-learn==0.22.2"
      ],
      "execution_count": null,
      "outputs": [
        {
          "output_type": "stream",
          "text": [
            "Requirement already satisfied: pandas==1.0.5 in /usr/local/lib/python3.6/dist-packages (1.0.5)\n",
            "Requirement already satisfied: matplotlib==3.2.2 in /usr/local/lib/python3.6/dist-packages (3.2.2)\n",
            "Requirement already satisfied: seaborn==0.10.1 in /usr/local/lib/python3.6/dist-packages (0.10.1)\n",
            "Requirement already satisfied: numpy==1.18.5 in /usr/local/lib/python3.6/dist-packages (1.18.5)\n",
            "Requirement already satisfied: scikit-learn==0.22.2 in /usr/local/lib/python3.6/dist-packages (0.22.2)\n",
            "Requirement already satisfied: python-dateutil>=2.6.1 in /usr/local/lib/python3.6/dist-packages (from pandas==1.0.5) (2.8.1)\n",
            "Requirement already satisfied: pytz>=2017.2 in /usr/local/lib/python3.6/dist-packages (from pandas==1.0.5) (2018.9)\n",
            "Requirement already satisfied: cycler>=0.10 in /usr/local/lib/python3.6/dist-packages (from matplotlib==3.2.2) (0.10.0)\n",
            "Requirement already satisfied: kiwisolver>=1.0.1 in /usr/local/lib/python3.6/dist-packages (from matplotlib==3.2.2) (1.2.0)\n",
            "Requirement already satisfied: pyparsing!=2.0.4,!=2.1.2,!=2.1.6,>=2.0.1 in /usr/local/lib/python3.6/dist-packages (from matplotlib==3.2.2) (2.4.7)\n",
            "Requirement already satisfied: scipy>=1.0.1 in /usr/local/lib/python3.6/dist-packages (from seaborn==0.10.1) (1.4.1)\n",
            "Requirement already satisfied: joblib>=0.11 in /usr/local/lib/python3.6/dist-packages (from scikit-learn==0.22.2) (0.16.0)\n",
            "Requirement already satisfied: six>=1.5 in /usr/local/lib/python3.6/dist-packages (from python-dateutil>=2.6.1->pandas==1.0.5) (1.15.0)\n"
          ],
          "name": "stdout"
        }
      ]
    },
    {
      "cell_type": "markdown",
      "metadata": {
        "id": "Dp25UC3Z3MK4"
      },
      "source": [
        "# Problem Description: Segment travel reviews\n",
        "\n",
        "You are given a dataset of travel reviews from TripAdvisor.com. The reviews are classified into 10 categories for each reviewer who traveled through East Asia and gave feedback on one of the 10 categories. For each traveler you get their average score for that specific category: Excellent (4), Very Good (3), Average (2), Poor (1), and Terrible (0). Your task is to discover whether you can classify travelers into distinct clusters using the K-means algorithm.\n",
        "\n",
        "The dataset can be [found here](https://archive.ics.uci.edu/ml/datasets/Travel+Reviews).\n",
        "</br>\n",
        "</br>\n",
        "\n",
        "### Attribute Information\n",
        "\n",
        "User ID : Unique user id</br>\n",
        "Category 1 : Average user feedback on art galleries</br>\n",
        "Category 2 : Average user feedback on dance clubs</br>\n",
        "Category 3 : Average user feedback on juice bars</br>\n",
        "Category 4 : Average user feedback on restaurants</br>\n",
        "Category 5 : Average user feedback on museums</br>\n",
        "Category 6 : Average user feedback on resorts</br>\n",
        "Category 7 : Average user feedback on parks/picnic spots</br>\n",
        "Category 8 : Average user feedback on beaches</br>\n",
        "Category 9 : Average user feedback on theaters</br>\n",
        "Category 10 : Average user feedback on religious institutions</br>"
      ]
    },
    {
      "cell_type": "markdown",
      "metadata": {
        "id": "Xi3Aa6Ebgz4n"
      },
      "source": [
        "# STEP 1: Load & inspect data"
      ]
    },
    {
      "cell_type": "code",
      "metadata": {
        "id": "m59Mfufv1duA",
        "colab": {
          "base_uri": "https://localhost:8080/",
          "height": 204
        },
        "outputId": "0612a018-b775-4a09-a025-b855caa6811b"
      },
      "source": [
        "import pandas as pd\n",
        "\n",
        "data_url = 'https://archive.ics.uci.edu/ml/machine-learning-databases/00484/tripadvisor_review.csv'\n",
        "\n",
        "# read data into a pandas dataframe\n",
        "df = pd.read_csv(data_url)\n",
        "\n",
        "# check the first 5 rows to get a feeling of the data\n",
        "df.head()"
      ],
      "execution_count": null,
      "outputs": [
        {
          "output_type": "execute_result",
          "data": {
            "text/html": [
              "<div>\n",
              "<style scoped>\n",
              "    .dataframe tbody tr th:only-of-type {\n",
              "        vertical-align: middle;\n",
              "    }\n",
              "\n",
              "    .dataframe tbody tr th {\n",
              "        vertical-align: top;\n",
              "    }\n",
              "\n",
              "    .dataframe thead th {\n",
              "        text-align: right;\n",
              "    }\n",
              "</style>\n",
              "<table border=\"1\" class=\"dataframe\">\n",
              "  <thead>\n",
              "    <tr style=\"text-align: right;\">\n",
              "      <th></th>\n",
              "      <th>User ID</th>\n",
              "      <th>Category 1</th>\n",
              "      <th>Category 2</th>\n",
              "      <th>Category 3</th>\n",
              "      <th>Category 4</th>\n",
              "      <th>Category 5</th>\n",
              "      <th>Category 6</th>\n",
              "      <th>Category 7</th>\n",
              "      <th>Category 8</th>\n",
              "      <th>Category 9</th>\n",
              "      <th>Category 10</th>\n",
              "    </tr>\n",
              "  </thead>\n",
              "  <tbody>\n",
              "    <tr>\n",
              "      <th>0</th>\n",
              "      <td>User 1</td>\n",
              "      <td>0.93</td>\n",
              "      <td>1.8</td>\n",
              "      <td>2.29</td>\n",
              "      <td>0.62</td>\n",
              "      <td>0.80</td>\n",
              "      <td>2.42</td>\n",
              "      <td>3.19</td>\n",
              "      <td>2.79</td>\n",
              "      <td>1.82</td>\n",
              "      <td>2.42</td>\n",
              "    </tr>\n",
              "    <tr>\n",
              "      <th>1</th>\n",
              "      <td>User 2</td>\n",
              "      <td>1.02</td>\n",
              "      <td>2.2</td>\n",
              "      <td>2.66</td>\n",
              "      <td>0.64</td>\n",
              "      <td>1.42</td>\n",
              "      <td>3.18</td>\n",
              "      <td>3.21</td>\n",
              "      <td>2.63</td>\n",
              "      <td>1.86</td>\n",
              "      <td>2.32</td>\n",
              "    </tr>\n",
              "    <tr>\n",
              "      <th>2</th>\n",
              "      <td>User 3</td>\n",
              "      <td>1.22</td>\n",
              "      <td>0.8</td>\n",
              "      <td>0.54</td>\n",
              "      <td>0.53</td>\n",
              "      <td>0.24</td>\n",
              "      <td>1.54</td>\n",
              "      <td>3.18</td>\n",
              "      <td>2.80</td>\n",
              "      <td>1.31</td>\n",
              "      <td>2.50</td>\n",
              "    </tr>\n",
              "    <tr>\n",
              "      <th>3</th>\n",
              "      <td>User 4</td>\n",
              "      <td>0.45</td>\n",
              "      <td>1.8</td>\n",
              "      <td>0.29</td>\n",
              "      <td>0.57</td>\n",
              "      <td>0.46</td>\n",
              "      <td>1.52</td>\n",
              "      <td>3.18</td>\n",
              "      <td>2.96</td>\n",
              "      <td>1.57</td>\n",
              "      <td>2.86</td>\n",
              "    </tr>\n",
              "    <tr>\n",
              "      <th>4</th>\n",
              "      <td>User 5</td>\n",
              "      <td>0.51</td>\n",
              "      <td>1.2</td>\n",
              "      <td>1.18</td>\n",
              "      <td>0.57</td>\n",
              "      <td>1.54</td>\n",
              "      <td>2.02</td>\n",
              "      <td>3.18</td>\n",
              "      <td>2.78</td>\n",
              "      <td>1.18</td>\n",
              "      <td>2.54</td>\n",
              "    </tr>\n",
              "  </tbody>\n",
              "</table>\n",
              "</div>"
            ],
            "text/plain": [
              "  User ID  Category 1  Category 2  ...  Category 8  Category 9  Category 10\n",
              "0  User 1        0.93         1.8  ...        2.79        1.82         2.42\n",
              "1  User 2        1.02         2.2  ...        2.63        1.86         2.32\n",
              "2  User 3        1.22         0.8  ...        2.80        1.31         2.50\n",
              "3  User 4        0.45         1.8  ...        2.96        1.57         2.86\n",
              "4  User 5        0.51         1.2  ...        2.78        1.18         2.54\n",
              "\n",
              "[5 rows x 11 columns]"
            ]
          },
          "metadata": {
            "tags": []
          },
          "execution_count": 2
        }
      ]
    },
    {
      "cell_type": "markdown",
      "metadata": {
        "id": "BNwPfqAL5lvB"
      },
      "source": [
        "# STEP 2: Exploratory Data Analysis (EDA) & Data Cleaning\n",
        "Inspect and visualize the data to notice trends.\n",
        "\n",
        "Clean the data according to [best practices](https://www.keboola.com/blog/the-ultimate-guide-to-data-cleaning)."
      ]
    },
    {
      "cell_type": "markdown",
      "metadata": {
        "id": "gqfrQO_EWLPz"
      },
      "source": [
        "Let us start by looking at descriptive statistics."
      ]
    },
    {
      "cell_type": "code",
      "metadata": {
        "id": "L9HVvNzTg9y7",
        "colab": {
          "base_uri": "https://localhost:8080/",
          "height": 390
        },
        "outputId": "4746c6d8-efae-461e-e130-68a8441ff788"
      },
      "source": [
        "# get descriptive statistics for each column/feature\n",
        "df.describe(include='all')"
      ],
      "execution_count": null,
      "outputs": [
        {
          "output_type": "execute_result",
          "data": {
            "text/html": [
              "<div>\n",
              "<style scoped>\n",
              "    .dataframe tbody tr th:only-of-type {\n",
              "        vertical-align: middle;\n",
              "    }\n",
              "\n",
              "    .dataframe tbody tr th {\n",
              "        vertical-align: top;\n",
              "    }\n",
              "\n",
              "    .dataframe thead th {\n",
              "        text-align: right;\n",
              "    }\n",
              "</style>\n",
              "<table border=\"1\" class=\"dataframe\">\n",
              "  <thead>\n",
              "    <tr style=\"text-align: right;\">\n",
              "      <th></th>\n",
              "      <th>User ID</th>\n",
              "      <th>Category 1</th>\n",
              "      <th>Category 2</th>\n",
              "      <th>Category 3</th>\n",
              "      <th>Category 4</th>\n",
              "      <th>Category 5</th>\n",
              "      <th>Category 6</th>\n",
              "      <th>Category 7</th>\n",
              "      <th>Category 8</th>\n",
              "      <th>Category 9</th>\n",
              "      <th>Category 10</th>\n",
              "    </tr>\n",
              "  </thead>\n",
              "  <tbody>\n",
              "    <tr>\n",
              "      <th>count</th>\n",
              "      <td>980</td>\n",
              "      <td>980.000000</td>\n",
              "      <td>980.000000</td>\n",
              "      <td>980.000000</td>\n",
              "      <td>980.000000</td>\n",
              "      <td>980.000000</td>\n",
              "      <td>980.000000</td>\n",
              "      <td>980.000000</td>\n",
              "      <td>980.000000</td>\n",
              "      <td>980.000000</td>\n",
              "      <td>980.000000</td>\n",
              "    </tr>\n",
              "    <tr>\n",
              "      <th>unique</th>\n",
              "      <td>980</td>\n",
              "      <td>NaN</td>\n",
              "      <td>NaN</td>\n",
              "      <td>NaN</td>\n",
              "      <td>NaN</td>\n",
              "      <td>NaN</td>\n",
              "      <td>NaN</td>\n",
              "      <td>NaN</td>\n",
              "      <td>NaN</td>\n",
              "      <td>NaN</td>\n",
              "      <td>NaN</td>\n",
              "    </tr>\n",
              "    <tr>\n",
              "      <th>top</th>\n",
              "      <td>User 859</td>\n",
              "      <td>NaN</td>\n",
              "      <td>NaN</td>\n",
              "      <td>NaN</td>\n",
              "      <td>NaN</td>\n",
              "      <td>NaN</td>\n",
              "      <td>NaN</td>\n",
              "      <td>NaN</td>\n",
              "      <td>NaN</td>\n",
              "      <td>NaN</td>\n",
              "      <td>NaN</td>\n",
              "    </tr>\n",
              "    <tr>\n",
              "      <th>freq</th>\n",
              "      <td>1</td>\n",
              "      <td>NaN</td>\n",
              "      <td>NaN</td>\n",
              "      <td>NaN</td>\n",
              "      <td>NaN</td>\n",
              "      <td>NaN</td>\n",
              "      <td>NaN</td>\n",
              "      <td>NaN</td>\n",
              "      <td>NaN</td>\n",
              "      <td>NaN</td>\n",
              "      <td>NaN</td>\n",
              "    </tr>\n",
              "    <tr>\n",
              "      <th>mean</th>\n",
              "      <td>NaN</td>\n",
              "      <td>0.893194</td>\n",
              "      <td>1.352612</td>\n",
              "      <td>1.013306</td>\n",
              "      <td>0.532500</td>\n",
              "      <td>0.939735</td>\n",
              "      <td>1.842898</td>\n",
              "      <td>3.180939</td>\n",
              "      <td>2.835061</td>\n",
              "      <td>1.569439</td>\n",
              "      <td>2.799224</td>\n",
              "    </tr>\n",
              "    <tr>\n",
              "      <th>std</th>\n",
              "      <td>NaN</td>\n",
              "      <td>0.326912</td>\n",
              "      <td>0.478280</td>\n",
              "      <td>0.788607</td>\n",
              "      <td>0.279731</td>\n",
              "      <td>0.437430</td>\n",
              "      <td>0.539538</td>\n",
              "      <td>0.007824</td>\n",
              "      <td>0.137505</td>\n",
              "      <td>0.364629</td>\n",
              "      <td>0.321380</td>\n",
              "    </tr>\n",
              "    <tr>\n",
              "      <th>min</th>\n",
              "      <td>NaN</td>\n",
              "      <td>0.340000</td>\n",
              "      <td>0.000000</td>\n",
              "      <td>0.130000</td>\n",
              "      <td>0.150000</td>\n",
              "      <td>0.060000</td>\n",
              "      <td>0.140000</td>\n",
              "      <td>3.160000</td>\n",
              "      <td>2.420000</td>\n",
              "      <td>0.740000</td>\n",
              "      <td>2.140000</td>\n",
              "    </tr>\n",
              "    <tr>\n",
              "      <th>25%</th>\n",
              "      <td>NaN</td>\n",
              "      <td>0.670000</td>\n",
              "      <td>1.080000</td>\n",
              "      <td>0.270000</td>\n",
              "      <td>0.410000</td>\n",
              "      <td>0.640000</td>\n",
              "      <td>1.460000</td>\n",
              "      <td>3.180000</td>\n",
              "      <td>2.740000</td>\n",
              "      <td>1.310000</td>\n",
              "      <td>2.540000</td>\n",
              "    </tr>\n",
              "    <tr>\n",
              "      <th>50%</th>\n",
              "      <td>NaN</td>\n",
              "      <td>0.830000</td>\n",
              "      <td>1.280000</td>\n",
              "      <td>0.820000</td>\n",
              "      <td>0.500000</td>\n",
              "      <td>0.900000</td>\n",
              "      <td>1.800000</td>\n",
              "      <td>3.180000</td>\n",
              "      <td>2.820000</td>\n",
              "      <td>1.540000</td>\n",
              "      <td>2.780000</td>\n",
              "    </tr>\n",
              "    <tr>\n",
              "      <th>75%</th>\n",
              "      <td>NaN</td>\n",
              "      <td>1.020000</td>\n",
              "      <td>1.560000</td>\n",
              "      <td>1.572500</td>\n",
              "      <td>0.580000</td>\n",
              "      <td>1.200000</td>\n",
              "      <td>2.200000</td>\n",
              "      <td>3.180000</td>\n",
              "      <td>2.910000</td>\n",
              "      <td>1.760000</td>\n",
              "      <td>3.040000</td>\n",
              "    </tr>\n",
              "    <tr>\n",
              "      <th>max</th>\n",
              "      <td>NaN</td>\n",
              "      <td>3.220000</td>\n",
              "      <td>3.640000</td>\n",
              "      <td>3.620000</td>\n",
              "      <td>3.440000</td>\n",
              "      <td>3.300000</td>\n",
              "      <td>3.760000</td>\n",
              "      <td>3.210000</td>\n",
              "      <td>3.390000</td>\n",
              "      <td>3.170000</td>\n",
              "      <td>3.660000</td>\n",
              "    </tr>\n",
              "  </tbody>\n",
              "</table>\n",
              "</div>"
            ],
            "text/plain": [
              "         User ID  Category 1  Category 2  ...  Category 8  Category 9  Category 10\n",
              "count        980  980.000000  980.000000  ...  980.000000  980.000000   980.000000\n",
              "unique       980         NaN         NaN  ...         NaN         NaN          NaN\n",
              "top     User 859         NaN         NaN  ...         NaN         NaN          NaN\n",
              "freq           1         NaN         NaN  ...         NaN         NaN          NaN\n",
              "mean         NaN    0.893194    1.352612  ...    2.835061    1.569439     2.799224\n",
              "std          NaN    0.326912    0.478280  ...    0.137505    0.364629     0.321380\n",
              "min          NaN    0.340000    0.000000  ...    2.420000    0.740000     2.140000\n",
              "25%          NaN    0.670000    1.080000  ...    2.740000    1.310000     2.540000\n",
              "50%          NaN    0.830000    1.280000  ...    2.820000    1.540000     2.780000\n",
              "75%          NaN    1.020000    1.560000  ...    2.910000    1.760000     3.040000\n",
              "max          NaN    3.220000    3.640000  ...    3.390000    3.170000     3.660000\n",
              "\n",
              "[11 rows x 11 columns]"
            ]
          },
          "metadata": {
            "tags": []
          },
          "execution_count": 3
        }
      ]
    },
    {
      "cell_type": "markdown",
      "metadata": {
        "id": "qBADiDED5SMO"
      },
      "source": [
        "The information above is useful to understand the top down statistics of data (e.g. mean, median, standard deviation), but this works even better, if we visualize the data.\n",
        "\n",
        "Before we visualize it, though, let us clean it a bit.\n",
        "\n",
        "Check if there are any **missing values** within the dataframe."
      ]
    },
    {
      "cell_type": "code",
      "metadata": {
        "id": "UfxGA19liBN4",
        "colab": {
          "base_uri": "https://localhost:8080/",
          "height": 221
        },
        "outputId": "05177522-c5c0-4d8c-d39a-509c3e124aaa"
      },
      "source": [
        "# count the number of rows with missing values per column\n",
        "df.isna().sum()"
      ],
      "execution_count": null,
      "outputs": [
        {
          "output_type": "execute_result",
          "data": {
            "text/plain": [
              "User ID        0\n",
              "Category 1     0\n",
              "Category 2     0\n",
              "Category 3     0\n",
              "Category 4     0\n",
              "Category 5     0\n",
              "Category 6     0\n",
              "Category 7     0\n",
              "Category 8     0\n",
              "Category 9     0\n",
              "Category 10    0\n",
              "dtype: int64"
            ]
          },
          "metadata": {
            "tags": []
          },
          "execution_count": 4
        }
      ]
    },
    {
      "cell_type": "markdown",
      "metadata": {
        "id": "e9ktugBtiZP1"
      },
      "source": [
        "All good! No information is missing, so we do not have to remove anything at this moment.\n",
        "\n",
        "For the next step, we check data distribution, and whether there are any **outliers**. We do it by visualizing the data with box plots."
      ]
    },
    {
      "cell_type": "code",
      "metadata": {
        "id": "wOQ_zNPF1eIk",
        "colab": {
          "base_uri": "https://localhost:8080/",
          "height": 797
        },
        "outputId": "2ecb3ce8-1fef-4dfa-8c6b-cab451fb922b"
      },
      "source": [
        "import seaborn as sns\n",
        "import matplotlib.pyplot as plt\n",
        "\n",
        "# prepare a dataframe without the column 'User ID' since it is categorical and cannot be visualized\n",
        "data_without_user_id = df.drop(['User ID'], axis=1)\n",
        "data_without_user_id.head()\n",
        "\n",
        "fig, axs = plt.subplots(ncols=5, nrows=2, figsize=(10, 10))\n",
        "index = 0\n",
        "axs = axs.flatten()\n",
        "for k,v in data_without_user_id.items():\n",
        "    sns.boxplot(y=k, data=data_without_user_id, ax=axs[index])\n",
        "    index += 1\n",
        "plt.tight_layout(pad=0.4, w_pad=0.5, h_pad=5.0)"
      ],
      "execution_count": null,
      "outputs": [
        {
          "output_type": "stream",
          "text": [
            "/usr/local/lib/python3.6/dist-packages/statsmodels/tools/_testing.py:19: FutureWarning: pandas.util.testing is deprecated. Use the functions in the public API at pandas.testing instead.\n",
            "  import pandas.util.testing as tm\n"
          ],
          "name": "stderr"
        },
        {
          "output_type": "display_data",
          "data": {
            "image/png": "[encoded data removed]",
            "text/plain": [
              "<Figure size 720x720 with 10 Axes>"
            ]
          },
          "metadata": {
            "tags": [],
            "needs_background": "light"
          }
        }
      ]
    },
    {
      "cell_type": "markdown",
      "metadata": {
        "id": "mCRa3lIJi507"
      },
      "source": [
        "From the Box plot we can see that almost every feature has outliers. Which can be extremely problematic for K-means. This is especially the case for the features 'Category 4' (Average user feedback on restaurants) and 'Category 7' (Average user feedback on parks/picnic spots).\n",
        "\n",
        "There are three options with outliers and K-means:\n",
        "1. We remove the users whose ratings are outliers.\n",
        "2. We remove the features which suffer from outliers.\n",
        "3. We use K-medoids clustering, instead of the K-means algorithm.\n",
        "\n",
        "For the time being, we will leave the data as it is. You can revisit this issue later and improve upon the algorithm."
      ]
    },
    {
      "cell_type": "markdown",
      "metadata": {
        "id": "08qt-PVz5o0a"
      },
      "source": [
        "## STEP 3: Train and evaluate a K-means solution\n",
        "\n",
        "We start by using the Elbow method to determine the optimal number of clusters."
      ]
    },
    {
      "cell_type": "code",
      "metadata": {
        "id": "c9o3-vOFy9qc",
        "colab": {
          "base_uri": "https://localhost:8080/",
          "height": 405
        },
        "outputId": "b9708cd8-e10a-41e5-ea22-8afb440b8a24"
      },
      "source": [
        "from sklearn.cluster import KMeans\n",
        "\n",
        "# Run the Kmeans algorithm and get the index of data points clusters\n",
        "sse = []\n",
        "list_k = list(range(1, 10))\n",
        "\n",
        "for k in list_k:\n",
        "    km = KMeans(n_clusters=k)\n",
        "    km.fit(data_without_user_id)\n",
        "    sse.append(km.inertia_)\n",
        "\n",
        "# Plot sse against k\n",
        "plt.figure(figsize=(10, 6))\n",
        "plt.plot(list_k, sse, '-o')\n",
        "plt.xlabel('Number of clusters k')\n",
        "plt.ylabel('Sum of squared distance (SSE)')\n",
        "\n",
        "# uncomment to save figure to local machine\n",
        "# plt.savefig('elbow_method_determination_of_k.png')"
      ],
      "execution_count": null,
      "outputs": [
        {
          "output_type": "execute_result",
          "data": {
            "text/plain": [
              "Text(0, 0.5, 'Sum of squared distance (SSE)')"
            ]
          },
          "metadata": {
            "tags": []
          },
          "execution_count": 6
        },
        {
          "output_type": "display_data",
          "data": {
            "image/png": "[encoded data removed]",
            "text/plain": [
              "<Figure size 720x432 with 1 Axes>"
            ]
          },
          "metadata": {
            "tags": [],
            "needs_background": "light"
          }
        }
      ]
    },
    {
      "cell_type": "markdown",
      "metadata": {
        "id": "NXB-b0efGX1_"
      },
      "source": [
        "The Elbow method is subjective. But it seems the biggest decrease in SSE happened going from 1 cluster to 2. So k=2 is where the eblow is and that is the ideal number of clusters.\n",
        "\n",
        "Let us evaluate how good this solution is with the Silhouette analysis. We will compare the solution found via the elbow method to k=3 and k=4. (check [Dabbura's article](https://towardsdatascience.com/k-means-clustering-algorithm-applications-evaluation-methods-and-drawbacks-aa03e644b48a) to dig deeper into the code)"
      ]
    },
    {
      "cell_type": "code",
      "metadata": {
        "id": "igaBafreGXTg",
        "colab": {
          "base_uri": "https://localhost:8080/",
          "height": 68
        },
        "outputId": "db2b9c8e-5a8c-4e2d-b7eb-060726ec494b"
      },
      "source": [
        "from sklearn.metrics import silhouette_score\n",
        "\n",
        "range_n_clusters = [2, 3, 4]\n",
        "\n",
        "for n_clusters in range_n_clusters:\n",
        "    # Initialize the clusterer with n_clusters value and a random generator\n",
        "    # seed of 10 for reproducibility.\n",
        "    clusterer = KMeans(n_clusters=n_clusters, random_state=10)\n",
        "    cluster_labels = clusterer.fit_predict(data_without_user_id)\n",
        "\n",
        "    # The silhouette_score gives the average value for all the samples.\n",
        "    # This gives a perspective into the density and separation of the formed\n",
        "    # clusters\n",
        "    silhouette_avg = silhouette_score(data_without_user_id, cluster_labels)\n",
        "    print(\"For n_clusters =\", n_clusters,\n",
        "          \"The average silhouette_score is :\", silhouette_avg)"
      ],
      "execution_count": null,
      "outputs": [
        {
          "output_type": "stream",
          "text": [
            "For n_clusters = 2 The average silhouette_score is : 0.30085279300986595\n",
            "For n_clusters = 3 The average silhouette_score is : 0.2057566603020218\n",
            "For n_clusters = 4 The average silhouette_score is : 0.16907960779865971\n"
          ],
          "name": "stdout"
        }
      ]
    },
    {
      "cell_type": "markdown",
      "metadata": {
        "id": "26cCjGdqp0Af"
      },
      "source": [
        "**Interpretation**: </br>\n",
        "Both the elbow method and the silhouette analysis agree: 2 is the ideal number of clusters for segmenting reviewers.\n",
        "\n",
        "However, it is clear from the silhouette score, that this clustering analysis has a lot of room for improvement.\n",
        "\n",
        "# Your turn\n",
        "Improve the model, to perform better than the baseline above.\n",
        "\n",
        "A couple of things you can explore:\n",
        "1. Does the model performance improve once we remove outliers?\n",
        "2. How does feature normalization affect model performance?\n",
        "3. What other features could you construct to improve the model?"
      ]
    }
  ]
}